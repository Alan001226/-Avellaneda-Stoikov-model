{
 "cells": [
  {
   "cell_type": "code",
   "execution_count": 1,
   "metadata": {},
   "outputs": [],
   "source": [
    "from model import *\n",
    "from mm import *\n",
    "import numpy as np\n",
    "import pandas as pd\n",
    "import matplotlib.pyplot as plt\n"
   ]
  },
  {
   "cell_type": "code",
   "execution_count": 2,
   "metadata": {},
   "outputs": [],
   "source": [
    "import ast\n",
    "\n",
    "def convert_to_numeric(str_list):\n",
    "    # Use ast.literal_eval to safely convert string to actual list with numeric entries\n",
    "    numeric_list = ast.literal_eval(str_list)\n",
    "    return numeric_list\n",
    "\n",
    "\n"
   ]
  },
  {
   "cell_type": "code",
   "execution_count": 3,
   "metadata": {},
   "outputs": [],
   "source": [
    "data_raw = pd.read_csv('historical_ETHUSDT_orderbook_data_2.csv')\n",
    "data_raw[\"Timestamp\"] = pd.to_datetime(data_raw[\"Timestamp\"])\n",
    "data_raw['Bid List'] = data_raw['Bid List'].apply(convert_to_numeric)\n",
    "data_raw['Bid Size List'] = data_raw['Bid Size List'].apply(convert_to_numeric)\n",
    "data_raw['Ask List'] = data_raw['Ask List'].apply(convert_to_numeric)\n",
    "data_raw['Ask Size List'] = data_raw['Ask Size List'].apply(convert_to_numeric)\n"
   ]
  },
  {
   "cell_type": "code",
   "execution_count": 4,
   "metadata": {},
   "outputs": [],
   "source": [
    "data_raw['Mid Price'] = data_raw.apply(lambda row: (row['Bid List'][0] + row['Ask List'][0]) / 2, axis=1)\n",
    "# Calculate the volatility of the past 200 lines' volatility\n",
    "data_raw['Sigma'] = data_raw['Mid Price'].rolling(200).std()\n",
    "data_raw[\"Order_coming_rate\"] =200 / data_raw['Timestamp'].diff(periods=200).dt.total_seconds()\n",
    "\n",
    "# Drop any NaN values\n",
    "data_raw.dropna(inplace=True)"
   ]
  },
  {
   "cell_type": "code",
   "execution_count": 5,
   "metadata": {},
   "outputs": [
    {
     "data": {
      "text/html": [
       "<div>\n",
       "<style scoped>\n",
       "    .dataframe tbody tr th:only-of-type {\n",
       "        vertical-align: middle;\n",
       "    }\n",
       "\n",
       "    .dataframe tbody tr th {\n",
       "        vertical-align: top;\n",
       "    }\n",
       "\n",
       "    .dataframe thead th {\n",
       "        text-align: right;\n",
       "    }\n",
       "</style>\n",
       "<table border=\"1\" class=\"dataframe\">\n",
       "  <thead>\n",
       "    <tr style=\"text-align: right;\">\n",
       "      <th></th>\n",
       "      <th>Timestamp</th>\n",
       "      <th>Bid List</th>\n",
       "      <th>Bid Size List</th>\n",
       "      <th>Ask List</th>\n",
       "      <th>Ask Size List</th>\n",
       "      <th>Mid Price</th>\n",
       "      <th>Sigma</th>\n",
       "      <th>Order_coming_rate</th>\n",
       "    </tr>\n",
       "  </thead>\n",
       "  <tbody>\n",
       "    <tr>\n",
       "      <th>200</th>\n",
       "      <td>2024-03-06 21:54:51</td>\n",
       "      <td>[3744.93, 3744.92, 3744.91, 3744.9, 3744.89]</td>\n",
       "      <td>[0.002, 0.002, 0.002, 0.002, 0.12794]</td>\n",
       "      <td>[3744.94, 3745.0, 3745.03, 3745.05, 3745.06]</td>\n",
       "      <td>[8.870029, 0.547, 0.001, 1.272315, 1.201]</td>\n",
       "      <td>3744.935</td>\n",
       "      <td>0.911406</td>\n",
       "      <td>9.090909</td>\n",
       "    </tr>\n",
       "    <tr>\n",
       "      <th>201</th>\n",
       "      <td>2024-03-06 21:54:51</td>\n",
       "      <td>[3744.93, 3744.92, 3744.91, 3744.9, 3744.89]</td>\n",
       "      <td>[0.002, 0.002, 0.002, 0.002, 0.12894]</td>\n",
       "      <td>[3744.94, 3744.99, 3745.0, 3745.02, 3745.05]</td>\n",
       "      <td>[9.870029, 0.002, 0.545, 0.001, 0.793317]</td>\n",
       "      <td>3744.935</td>\n",
       "      <td>0.908554</td>\n",
       "      <td>9.090909</td>\n",
       "    </tr>\n",
       "    <tr>\n",
       "      <th>202</th>\n",
       "      <td>2024-03-06 21:54:51</td>\n",
       "      <td>[3744.93, 3744.92, 3744.91, 3744.9, 3744.89]</td>\n",
       "      <td>[0.002, 0.002, 0.002, 0.002, 0.12894]</td>\n",
       "      <td>[3744.94, 3744.99, 3745.0, 3745.02, 3745.05]</td>\n",
       "      <td>[10.863029, 0.002, 0.545, 0.001, 0.793317]</td>\n",
       "      <td>3744.935</td>\n",
       "      <td>0.905595</td>\n",
       "      <td>9.090909</td>\n",
       "    </tr>\n",
       "    <tr>\n",
       "      <th>203</th>\n",
       "      <td>2024-03-06 21:54:52</td>\n",
       "      <td>[3744.93, 3744.92, 3744.91, 3744.9, 3744.89]</td>\n",
       "      <td>[0.002, 0.002, 0.002, 0.002, 0.12894]</td>\n",
       "      <td>[3744.94, 3744.99, 3745.0, 3745.02, 3745.03]</td>\n",
       "      <td>[11.063029, 0.102, 0.545, 0.001, 0.1]</td>\n",
       "      <td>3744.935</td>\n",
       "      <td>0.902529</td>\n",
       "      <td>8.695652</td>\n",
       "    </tr>\n",
       "    <tr>\n",
       "      <th>204</th>\n",
       "      <td>2024-03-06 21:54:52</td>\n",
       "      <td>[3744.93, 3744.92, 3744.91, 3744.9, 3744.89]</td>\n",
       "      <td>[0.002, 0.002, 0.002, 0.002, 0.12894]</td>\n",
       "      <td>[3744.94, 3744.99, 3745.0, 3745.02, 3745.05]</td>\n",
       "      <td>[11.063029, 0.102, 0.545, 0.001, 0.793317]</td>\n",
       "      <td>3744.935</td>\n",
       "      <td>0.899353</td>\n",
       "      <td>8.695652</td>\n",
       "    </tr>\n",
       "  </tbody>\n",
       "</table>\n",
       "</div>"
      ],
      "text/plain": [
       "              Timestamp                                      Bid List  \\\n",
       "200 2024-03-06 21:54:51  [3744.93, 3744.92, 3744.91, 3744.9, 3744.89]   \n",
       "201 2024-03-06 21:54:51  [3744.93, 3744.92, 3744.91, 3744.9, 3744.89]   \n",
       "202 2024-03-06 21:54:51  [3744.93, 3744.92, 3744.91, 3744.9, 3744.89]   \n",
       "203 2024-03-06 21:54:52  [3744.93, 3744.92, 3744.91, 3744.9, 3744.89]   \n",
       "204 2024-03-06 21:54:52  [3744.93, 3744.92, 3744.91, 3744.9, 3744.89]   \n",
       "\n",
       "                             Bid Size List  \\\n",
       "200  [0.002, 0.002, 0.002, 0.002, 0.12794]   \n",
       "201  [0.002, 0.002, 0.002, 0.002, 0.12894]   \n",
       "202  [0.002, 0.002, 0.002, 0.002, 0.12894]   \n",
       "203  [0.002, 0.002, 0.002, 0.002, 0.12894]   \n",
       "204  [0.002, 0.002, 0.002, 0.002, 0.12894]   \n",
       "\n",
       "                                         Ask List  \\\n",
       "200  [3744.94, 3745.0, 3745.03, 3745.05, 3745.06]   \n",
       "201  [3744.94, 3744.99, 3745.0, 3745.02, 3745.05]   \n",
       "202  [3744.94, 3744.99, 3745.0, 3745.02, 3745.05]   \n",
       "203  [3744.94, 3744.99, 3745.0, 3745.02, 3745.03]   \n",
       "204  [3744.94, 3744.99, 3745.0, 3745.02, 3745.05]   \n",
       "\n",
       "                                  Ask Size List  Mid Price     Sigma  \\\n",
       "200   [8.870029, 0.547, 0.001, 1.272315, 1.201]   3744.935  0.911406   \n",
       "201   [9.870029, 0.002, 0.545, 0.001, 0.793317]   3744.935  0.908554   \n",
       "202  [10.863029, 0.002, 0.545, 0.001, 0.793317]   3744.935  0.905595   \n",
       "203       [11.063029, 0.102, 0.545, 0.001, 0.1]   3744.935  0.902529   \n",
       "204  [11.063029, 0.102, 0.545, 0.001, 0.793317]   3744.935  0.899353   \n",
       "\n",
       "     Order_coming_rate  \n",
       "200           9.090909  \n",
       "201           9.090909  \n",
       "202           9.090909  \n",
       "203           8.695652  \n",
       "204           8.695652  "
      ]
     },
     "execution_count": 5,
     "metadata": {},
     "output_type": "execute_result"
    }
   ],
   "source": [
    "data_raw.head()"
   ]
  },
  {
   "cell_type": "code",
   "execution_count": null,
   "metadata": {},
   "outputs": [],
   "source": [
    "start_time = data_raw['Timestamp'].iloc[0]\n",
    "end_time = data_raw['Timestamp'].iloc[-1]\n",
    "init_bid_price_list = data_raw['Bid List'].iloc[0]\n",
    "init_ask_price_list = data_raw['Ask List'].iloc[0]\n",
    "init_bid_size_list = data_raw['Bid Size List'].iloc[0]\n",
    "init_ask_size_list = data_raw['Ask Size List'].iloc[0]\n",
    "init_sigma = data_raw['Sigma'].iloc[0]\n",
    "init_gamma = 0.0001\n",
    "init_kappa = 1/data_raw['Order_coming_rate'].iloc[0]\n",
    "init_q =1\n",
    "\n",
    "initial_as = ASmodel(start_time=start_time,current_time=start_time, terminal_time=end_time,\n",
    "                     bid_price_list=init_bid_price_list,ask_price_list=init_ask_price_list,\n",
    "                     bid_size_list=init_bid_size_list,ask_size_list=init_ask_size_list,\n",
    "                     kappa=init_kappa,gamma=init_gamma,sigma=init_sigma,q=init_q)\n"
   ]
  },
  {
   "cell_type": "code",
   "execution_count": null,
   "metadata": {},
   "outputs": [
    {
     "name": "stdout",
     "output_type": "stream",
     "text": [
      "Mid Price:  3473.5550000000003\n",
      "Reference Price:  3473.554788217946\n",
      "3466.660507631241 3480.4490688046512 3.386471867330552 0.0\n",
      "Mid Price:  3473.535\n",
      "Reference Price:  3473.534789681739\n",
      "3466.870239091004 3480.199340272474 3.2736350921699002 0.0\n",
      "Mid Price:  3473.535\n",
      "Reference Price:  3473.534791143073\n",
      "3466.8702412830053 3480.199341003141 3.273634733379289 0.0\n",
      "Mid Price:  3473.535\n",
      "Reference Price:  3473.5347926072714\n",
      "3466.8702434793026 3480.19934173524 3.2736343738855402 0.0\n",
      "Mid Price:  3473.335\n",
      "Reference Price:  3473.3347937580215\n",
      "3466.670245205428 3479.9993423106152 3.3531517040868524 0.0\n"
     ]
    }
   ],
   "source": [
    "for i,row in data_raw[:5].iterrows():\n",
    "\n",
    "    initial_as.update_model_parameters(new_current_time=row['Timestamp'],new_bid_price_list=row['Bid List'],new_ask_price_list=row['Ask List'],new_bid_size_list=row['Bid Size List'],new_ask_size_list=row['Ask Size List'],new_sigma=row['Sigma'],new_kappa=1/row['Order_coming_rate'])\n",
    "    print(\"Mid Price: \",initial_as.calculate_mid_price())\n",
    "    print(\"Reference Price: \",initial_as.calculate_reference_price())\n",
    "    a,b,c,d = initial_as.deliver_order()\n",
    "    print(a,b,c,d)"
   ]
  },
  {
   "cell_type": "code",
   "execution_count": null,
   "metadata": {},
   "outputs": [],
   "source": []
  },
  {
   "cell_type": "code",
   "execution_count": null,
   "metadata": {},
   "outputs": [
    {
     "data": {
      "text/plain": [
       "0.9999497260067367"
      ]
     },
     "execution_count": 8,
     "metadata": {},
     "output_type": "execute_result"
    }
   ],
   "source": [
    "initial_as.calculate_delta_t()"
   ]
  },
  {
   "cell_type": "code",
   "execution_count": null,
   "metadata": {},
   "outputs": [
    {
     "name": "stdout",
     "output_type": "stream",
     "text": [
      "Bid Prices: (105, 104, 103, 102, 101)\n",
      "Ask Prices: (105, 106, 107, 108, 109)\n",
      "Bid Sizes: (6, 7, 8, 9, 10)\n",
      "Ask Sizes: (10, 5, 4, 3, 2)\n"
     ]
    }
   ],
   "source": [
    "class Order:\n",
    "    def __init__(self, limit_bid_list, limit_ask_list, limit_bid_size, limit_ask_size):\n",
    "        self.limit_bid_list = limit_bid_list\n",
    "        self.limit_ask_list = limit_ask_list\n",
    "        self.limit_bid_size = limit_bid_size\n",
    "        self.limit_ask_size = limit_ask_size\n",
    "\n",
    "    def update_order(self, bid, ask, bid_size, ask_size):\n",
    "        # Always append new bid and ask prices and sizes\n",
    "        self.limit_bid_list.append(bid)\n",
    "        self.limit_bid_size.append(bid_size)\n",
    "        self.limit_ask_list.append(ask)\n",
    "        self.limit_ask_size.append(ask_size)\n",
    "        \n",
    "        # Combine lists with sizes as tuples for sorting\n",
    "        combined_bid = list(zip(self.limit_bid_list, self.limit_bid_size))\n",
    "        combined_ask = list(zip(self.limit_ask_list, self.limit_ask_size))\n",
    "\n",
    "        # Sort the combined lists\n",
    "        combined_bid.sort(key=lambda x: x[0], reverse=True)  # Highest bids first\n",
    "        combined_ask.sort(key=lambda x: x[0])  # Lowest asks first\n",
    "\n",
    "        # If we have more than 5 bids, pop the lowest\n",
    "        while len(combined_bid) > 5:\n",
    "            combined_bid.pop()\n",
    "\n",
    "        # If we have more than 5 asks, pop the highest\n",
    "        while len(combined_ask) > 5:\n",
    "            combined_ask.pop(-1)\n",
    "\n",
    "        # Unpack the combined lists back into separate lists\n",
    "        self.limit_bid_list, self.limit_bid_size = zip(*combined_bid)\n",
    "        self.limit_ask_list, self.limit_ask_size = zip(*combined_ask)\n",
    "\n",
    "# Example usage\n",
    "limit_bid_list = [101, 102, 103, 104, 105]\n",
    "limit_ask_list = [106, 107, 108, 109, 110]\n",
    "limit_bid_size = [10, 9, 8, 7, 6]\n",
    "limit_ask_size = [5, 4, 3, 2, 1]\n",
    "\n",
    "# Create Order object\n",
    "order = Order(limit_bid_list, limit_ask_list, limit_bid_size, limit_ask_size)\n",
    "\n",
    "# Update order with new bid and ask\n",
    "order.update_order(100, 105, 10, 10)\n",
    "\n",
    "# Check results\n",
    "print(\"Bid Prices:\", order.limit_bid_list)\n",
    "print(\"Ask Prices:\", order.limit_ask_list)\n",
    "print(\"Bid Sizes:\", order.limit_bid_size)\n",
    "print(\"Ask Sizes:\", order.limit_ask_size)\n"
   ]
  },
  {
   "cell_type": "code",
   "execution_count": 6,
   "metadata": {},
   "outputs": [
    {
     "name": "stdout",
     "output_type": "stream",
     "text": [
      "0\n",
      "1\n",
      "2\n",
      "3\n",
      "4\n"
     ]
    }
   ],
   "source": [
    "for i in range(5):\n",
    "    print(i)"
   ]
  },
  {
   "cell_type": "code",
   "execution_count": null,
   "metadata": {},
   "outputs": [],
   "source": []
  }
 ],
 "metadata": {
  "kernelspec": {
   "display_name": "Python 3",
   "language": "python",
   "name": "python3"
  },
  "language_info": {
   "codemirror_mode": {
    "name": "ipython",
    "version": 3
   },
   "file_extension": ".py",
   "mimetype": "text/x-python",
   "name": "python",
   "nbconvert_exporter": "python",
   "pygments_lexer": "ipython3",
   "version": "3.9.6"
  }
 },
 "nbformat": 4,
 "nbformat_minor": 2
}
